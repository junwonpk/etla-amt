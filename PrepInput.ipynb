{
 "cells": [
  {
   "cell_type": "code",
   "execution_count": 6,
   "metadata": {},
   "outputs": [
    {
     "name": "stdout",
     "output_type": "stream",
     "text": [
      "1000\n",
      "10\n"
     ]
    }
   ],
   "source": [
    "import os\n",
    "import json\n",
    "from shutil import copyfile, rmtree\n",
    "from pprint import pprint\n",
    "\n",
    "inputData = []\n",
    "\n",
    "with open('data/etla_images.json') as json_data:\n",
    "    images = json.load(json_data)\n",
    "    json_data.close()\n",
    "    inputDatum = []\n",
    "    for i in range(len(images)):\n",
    "        if len(inputDatum) == 10:       \n",
    "            inputData.append(inputDatum)\n",
    "            inputDatum = []\n",
    "        inputDatum.append(images[i])\n",
    "    if len(inputDatum) == 10:       \n",
    "        inputData.append(inputDatum)\n",
    "        inputDatum = []\n",
    "\n",
    "        \n",
    "pprint(len(inputData))\n",
    "pprint(len(inputData[999]))\n",
    "\n",
    "if os.path.exists('examples/image_sentence/example_input.txt'):\n",
    "    os.remove('examples/image_sentence/example_input.txt')\n",
    "with open('examples/image_sentence/example_input.txt', 'a') as outfile:\n",
    "    for inputDatum in inputData:\n",
    "        json.dump(inputDatum, outfile)\n",
    "        outfile.write('\\n')\n",
    "#     outfile.close()"
   ]
  },
  {
   "cell_type": "code",
   "execution_count": null,
   "metadata": {},
   "outputs": [],
   "source": []
  }
 ],
 "metadata": {
  "kernelspec": {
   "display_name": "Python 2",
   "language": "python",
   "name": "python2"
  },
  "language_info": {
   "codemirror_mode": {
    "name": "ipython",
    "version": 2
   },
   "file_extension": ".py",
   "mimetype": "text/x-python",
   "name": "python",
   "nbconvert_exporter": "python",
   "pygments_lexer": "ipython2",
   "version": "2.7.15"
  }
 },
 "nbformat": 4,
 "nbformat_minor": 2
}
